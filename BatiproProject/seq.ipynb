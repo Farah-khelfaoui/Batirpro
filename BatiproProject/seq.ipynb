{
 "cells": [
  {
   "cell_type": "code",
   "execution_count": null,
   "metadata": {},
   "outputs": [
    {
     "data": {
      "text/plain": [
       "[]"
      ]
     },
     "execution_count": 11,
     "metadata": {},
     "output_type": "execute_result"
    }
   ],
   "source": [
    "def Vide(s):\n",
    "    return len(s) == 0 \n",
    "\n",
    "def premier(s):\n",
    "    return s[0]\n",
    "\n",
    "def reste(s):\n",
    "    return s[1:]\n"
   ]
  },
  {
   "cell_type": "code",
   "execution_count": 41,
   "metadata": {},
   "outputs": [
    {
     "name": "stdout",
     "output_type": "stream",
     "text": [
      "3\n"
     ]
    }
   ],
   "source": [
    "def Trouve(s1,s2):\n",
    "    if Vide(s1) and Vide(s2):\n",
    "        return True\n",
    "    elif Vide(s1):\n",
    "        return False\n",
    "    elif Vide(s2):\n",
    "        return True\n",
    "    elif premier(s2) == premier(s1):\n",
    "        return Trouve(reste(s1),reste(s2))\n",
    "    else:\n",
    "        return False\n",
    "\n",
    "def Occurrence_séquence(s1,s2):\n",
    "    if Vide(s2):\n",
    "        return 0\n",
    "    elif Vide(s1):\n",
    "        return 0\n",
    "    elif Trouve(s1,s2):\n",
    "        return 1+ Occurrence_séquence(reste(s1),s2)\n",
    "    else:\n",
    "        return 0 + Occurrence_séquence(reste(s1),s2)\n",
    "\n",
    "\n",
    "s1= [3,4,3,1,2,3,4,5,6,3,4]\n",
    "s2= [3,4]\n",
    "NbreOcc = Occurrence_séquence(s1,s2) \n",
    "print(NbreOcc)\n"
   ]
  },
  {
   "cell_type": "code",
   "execution_count": null,
   "metadata": {},
   "outputs": [],
   "source": []
  }
 ],
 "metadata": {
  "kernelspec": {
   "display_name": "Python 3",
   "language": "python",
   "name": "python3"
  },
  "language_info": {
   "codemirror_mode": {
    "name": "ipython",
    "version": 3
   },
   "file_extension": ".py",
   "mimetype": "text/x-python",
   "name": "python",
   "nbconvert_exporter": "python",
   "pygments_lexer": "ipython3",
   "version": "3.12.5"
  }
 },
 "nbformat": 4,
 "nbformat_minor": 2
}
