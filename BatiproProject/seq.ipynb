{
 "cells": [
  {
   "cell_type": "code",
   "execution_count": null,
   "metadata": {},
   "outputs": [
    {
     "data": {
      "text/plain": [
       "[]"
      ]
     },
     "execution_count": 11,
     "metadata": {},
     "output_type": "execute_result"
    }
   ],
   "source": [
    "def Vide(s):\n",
    "    return len(s) == 0 \n",
    "\n",
    "def premier(s):\n",
    "    return s[0]\n",
    "\n",
    "def reste(s):\n",
    "    return s[1:]\n"
   ]
  },
  {
   "cell_type": "code",
   "execution_count": 41,
   "metadata": {},
   "outputs": [
    {
     "name": "stdout",
     "output_type": "stream",
     "text": [
      "3\n"
     ]
    }
   ],
   "source": [
    "def Trouve(s1,s2):\n",
    "    if Vide(s1) and Vide(s2):\n",
    "        return True\n",
    "    elif Vide(s1):\n",
    "        return False\n",
    "    elif Vide(s2):\n",
    "        return True\n",
    "    elif premier(s2) == premier(s1):\n",
    "        return Trouve(reste(s1),reste(s2))\n",
    "    else:\n",
    "        return False\n",
    "\n",
    "def Occurrence_séquence(s1,s2):\n",
    "    if Vide(s2):\n",
    "        return 0\n",
    "    elif Vide(s1):\n",
    "        return 0\n",
    "    elif Trouve(s1,s2):\n",
    "        return 1+ Occurrence_séquence(reste(s1),s2)\n",
    "    else:\n",
    "        return 0 + Occurrence_séquence(reste(s1),s2)\n",
    "\n",
    "\n",
    "s1= [3,4,3,1,2,3,4,5,6,3,4]\n",
    "s2= [3,4]\n",
    "NbreOcc = Occurrence_séquence(s1,s2) \n",
    "print(NbreOcc)\n"
   ]
  },
  {
   "cell_type": "code",
   "execution_count": null,
   "metadata": {},
   "outputs": [],
   "source": [
    "def function(n):\n",
    "    i = 1\n",
    "    s = 1\n",
    "    while s < n:\n",
    "        s = s + i\n",
    "        print(s)\n",
    "        i += 1\n",
    "\n",
    "    return s"
   ]
  },
  {
   "cell_type": "code",
   "execution_count": null,
   "metadata": {},
   "outputs": [
    {
     "name": "stdout",
     "output_type": "stream",
     "text": [
      "2 -> 1 -> 4 -> 3 -> "
     ]
    }
   ],
   "source": [
    "def strStr(haystack: str, needle: str) -> int:\n",
    "        for i in range(len(haystack)-len(needle)+1 ):\n",
    "                if needle[0] == haystack[i]:\n",
    "                        match = True\n",
    "                        for j in range(len(needle)):\n",
    "                                if needle[j] != haystack[i+j]:\n",
    "                                        match = False\n",
    "                                        break\n",
    "                        if match : return i\n",
    "        return -1\n",
    "\n",
    "            \n",
    "\n",
    "\n",
    "def premier_match(mot1:str,  mot2:str)-> int :\n",
    "        n,m = len(mot1), len(mot2)\n",
    "        for i in range(n-m + 1):\n",
    "            match = True \n",
    "            if mot1[i:i+m] == mot2 :\n",
    "                return i\n",
    "        return -1\n",
    "\n",
    "    \n",
    "            \n",
    "premier_match('aaaaa', 'aaa')\n",
    "\n",
    "from typing import List,Optional\n",
    "class ListNode:\n",
    "    def __init__(self,val=0,next=None):\n",
    "            self.val = val\n",
    "            self.next = next\n",
    "    def List(self,L:List):\n",
    "            self=ListNode()\n",
    "            tete = self\n",
    "            for i in range(len(L)):\n",
    "                temp = ListNode(val=L[i])\n",
    "                tete.next = temp\n",
    "                tete = tete.next\n",
    "            \n",
    "            return self.next\n",
    "            \n",
    "\n",
    "          \n",
    "\n",
    "\n",
    "def swapPairs(head: Optional[ListNode]) -> Optional[ListNode]:\n",
    "        dummy = ListNode()\n",
    "        dummy.next = head\n",
    "        current = dummy\n",
    "        while current.next and current.next.next :\n",
    "            first = current.next\n",
    "            second = current.next.next\n",
    "\n",
    "            first.next = second.next\n",
    "            second.next = first\n",
    "            current.next = second\n",
    "\n",
    "            current = current.next.next\n",
    "        return dummy.next\n",
    "\n",
    "\n",
    "\n",
    "python_list = [1, 2, 3, 4]\n",
    "linked_list = ListNode().List(python_list)\n",
    "l = swapPairs(linked_list)\n",
    "\n",
    "\n",
    "# Traverse and print the linked list\n",
    "current = l\n",
    "while current:\n",
    "    print(current.val, end=\" -> \")\n",
    "    current = current.next\n"
   ]
  },
  {
   "cell_type": "code",
   "execution_count": null,
   "metadata": {},
   "outputs": [
    {
     "data": {
      "text/plain": [
       "16.46875"
      ]
     },
     "execution_count": 71,
     "metadata": {},
     "output_type": "execute_result"
    }
   ],
   "source": [
    "def log(x:float,n:int)-> int:\n",
    "    if x <= 1 :\n",
    "        return 0\n",
    "    else :\n",
    "        return  log(x/n,n)\n",
    "\n",
    "log(17,2)"
   ]
  },
  {
   "cell_type": "code",
   "execution_count": 13,
   "metadata": {},
   "outputs": [
    {
     "name": "stdout",
     "output_type": "stream",
     "text": [
      "Déplacer le disque 1 de A vers B\n",
      "le mouvement est : 1\n",
      "Déplacer le disque 2 de A vers C\n",
      "Déplacer le disque 1 de B vers C\n",
      "le mouvement est : 2\n"
     ]
    }
   ],
   "source": [
    "def hanoi_3_tiges(n, A, C, B , Mouvement):\n",
    "    if n == 1:\n",
    "        print(f\"Déplacer le disque 1 de {A} vers {C}\")\n",
    "        Mouvement += 1\n",
    "        print('le mouvement est : '+ str(Mouvement))\n",
    "        return Mouvement\n",
    "    \n",
    "    # Étape 1 : Déplacer n-1 disques de from_rod vers aux_rod\n",
    "    hanoi_3_tiges(n - 1, A, B, C, Mouvement)\n",
    "    \n",
    "    # Étape 2 : Déplacer le disque n directement vers to_rod\n",
    "    print(f\"Déplacer le disque {n} de {A} vers {C}\")\n",
    "    Mouvement += 1\n",
    "    \n",
    "    # Étape 3 : Déplacer n-1 disques de aux_rod vers to_rod\n",
    "    hanoi_3_tiges(n - 1, B, C, A , Mouvement)\n",
    "\n",
    "# Exemple d'utilisation\n",
    "hanoi_3_tiges(2, 'A', 'C', 'B',Mouvement=0)\n",
    "\n",
    "\n"
   ]
  },
  {
   "cell_type": "code",
   "execution_count": null,
   "metadata": {},
   "outputs": [
    {
     "name": "stdout",
     "output_type": "stream",
     "text": [
      "Déplacer le disque 1 de A vers C\n",
      "Déplacer le disque 2 de A vers B\n",
      "Déplacer le disque 1 de C vers B\n",
      "Déplacer le disque 3 de A vers C\n",
      "Déplacer le disque 1 de B vers A\n",
      "Déplacer le disque 2 de B vers C\n",
      "Déplacer le disque 1 de A vers C\n",
      "\n",
      "Nombre total de mouvements pour 3 disques : 7\n"
     ]
    }
   ],
   "source": [
    "def hanoi_3_tiges(n, A, C, B):\n",
    "    if n == 1:\n",
    "        print(f\"Déplacer le disque 1 de {A} vers {C}\")\n",
    "        return 1  # Un seul mouvement pour un disque\n",
    "    \n",
    "    # Étape 1 : Déplacer n-1 disques de A vers B\n",
    "    mouvements_avant = hanoi_3_tiges(n - 1, A, B, C)\n",
    "    \n",
    "    # Étape 2 : Déplacer le disque n directement vers C\n",
    "    print(f\"Déplacer le disque {n} de {A} vers {C}\")\n",
    "    \n",
    "    # Étape 3 : Déplacer n-1 disques de B vers C\n",
    "    mouvements_apres = hanoi_3_tiges(n - 1, B, C, A)\n",
    "    \n",
    "    # Total des mouvements : avant + 1 (déplacement actuel) + après\n",
    "    return mouvements_avant + 1 + mouvements_apres\n",
    "\n",
    "# Exemple d'utilisation\n",
    "n = 3  # Nombre de disques (peut être changé)\n",
    "mouvements_total = hanoi_3_tiges(n, 'A', 'C', 'B')\n",
    "print(f\"\\nNombre total de mouvements pour {n} disques : {mouvements_total}\")"
   ]
  },
  {
   "cell_type": "code",
   "execution_count": null,
   "metadata": {},
   "outputs": [],
   "source": [
    "for i in range(n):\n",
    "    for j in range(i):\n",
    "        Programme"
   ]
  }
 ],
 "metadata": {
  "kernelspec": {
   "display_name": "Python 3",
   "language": "python",
   "name": "python3"
  },
  "language_info": {
   "codemirror_mode": {
    "name": "ipython",
    "version": 3
   },
   "file_extension": ".py",
   "mimetype": "text/x-python",
   "name": "python",
   "nbconvert_exporter": "python",
   "pygments_lexer": "ipython3",
   "version": "3.12.5"
  }
 },
 "nbformat": 4,
 "nbformat_minor": 2
}
